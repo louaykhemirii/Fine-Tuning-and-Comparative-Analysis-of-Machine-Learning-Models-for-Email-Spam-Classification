{
  "nbformat": 4,
  "nbformat_minor": 0,
  "metadata": {
    "colab": {
      "provenance": []
    },
    "kernelspec": {
      "name": "python3",
      "display_name": "Python 3"
    },
    "language_info": {
      "name": "python"
    }
  },
  "cells": [
    {
      "cell_type": "code",
      "execution_count": 25,
      "metadata": {
        "id": "F5KtqSRxSxYd"
      },
      "outputs": [],
      "source": [
        "from google.colab import files\n",
        "import pandas as pd\n",
        "import numpy as np\n",
        "import matplotlib.pyplot as plt\n",
        "from sklearn.tree import DecisionTreeClassifier\n",
        "\n",
        "from sklearn.model_selection import train_test_split, GridSearchCV\n",
        "from sklearn.preprocessing import LabelEncoder\n",
        "from sklearn.metrics import confusion_matrix, roc_auc_score, recall_score\n",
        "from sklearn.linear_model import LogisticRegression\n",
        "from sklearn.ensemble import RandomForestClassifier, AdaBoostClassifier\n",
        "from sklearn.svm import SVC\n",
        "from sklearn.naive_bayes import GaussianNB\n",
        "from sklearn.neighbors import KNeighborsClassifier\n",
        "from sklearn.neural_network import MLPClassifier\n",
        "from sklearn.feature_selection import RFE\n",
        "from sklearn.decomposition import PCA\n",
        "\n",
        "import seaborn as sns\n",
        "\n",
        "\n"
      ]
    },
    {
      "cell_type": "markdown",
      "source": [
        "# Load Dataset"
      ],
      "metadata": {
        "id": "rFvNwiJtb4Ri"
      }
    },
    {
      "cell_type": "code",
      "source": [
        "# Upload spam.dat manually before running this cell\n",
        "df = pd.read_csv(\"spam.dat\")"
      ],
      "metadata": {
        "id": "O61FMfzGbYzv"
      },
      "execution_count": 26,
      "outputs": []
    },
    {
      "cell_type": "markdown",
      "source": [
        "# Explore Dataset"
      ],
      "metadata": {
        "id": "2v2VwZPcb-cu"
      }
    },
    {
      "cell_type": "code",
      "source": [
        "print(df.shape)\n",
        "df.head()"
      ],
      "metadata": {
        "colab": {
          "base_uri": "https://localhost:8080/",
          "height": 273
        },
        "id": "Fq_lIF_nbf8r",
        "outputId": "707f5c80-dc9f-4905-e9b3-749a70e589b6"
      },
      "execution_count": 27,
      "outputs": [
        {
          "output_type": "stream",
          "name": "stdout",
          "text": [
            "(4789, 463)\n"
          ]
        },
        {
          "output_type": "execute_result",
          "data": {
            "text/plain": [
              "   ACT_NOW  ADDRESSES_ON_CD  ADULT_SITE  ADVERT_CODE  ADVERT_CODE2  \\\n",
              "0        0                0           0            0             0   \n",
              "1        0                0           0            0             0   \n",
              "2        0                0           0            0             0   \n",
              "3        0                0           0            0             0   \n",
              "4        0                0           0            0             0   \n",
              "\n",
              "   ALL_CAPS_HEADER  ALL_CAP_PORN  ALL_NATURAL  AMATEUR_PORN  AMAZING  ...  \\\n",
              "0                0             0            0             0        0  ...   \n",
              "1                0             0            0             0        0  ...   \n",
              "2                0             0            0             0        0  ...   \n",
              "3                0             0            0             0        0  ...   \n",
              "4                0             0            0             0        0  ...   \n",
              "\n",
              "   X_ENC_PRESENT  X_LIBRARY  X_LIST_UNSUBSCRIBE  X_MSMAIL_PRIORITY_HIGH  \\\n",
              "0              0          0                   0                       0   \n",
              "1              0          0                   0                       0   \n",
              "2              0          0                   0                       0   \n",
              "3              0          0                   0                       0   \n",
              "4              0          0                   0                       0   \n",
              "\n",
              "   X_PRECEDENCE_REF  X_PRIORITY_HIGH  X_STORMPOST_TO  X_X_PRESENT  \\\n",
              "0                 0                0               0            0   \n",
              "1                 0                0               0            0   \n",
              "2                 0                0               0            0   \n",
              "3                 0                0               0            0   \n",
              "4                 0                0               0            0   \n",
              "\n",
              "   YOUR_INCOME  target  \n",
              "0            0     yes  \n",
              "1            0      no  \n",
              "2            0     yes  \n",
              "3            0      no  \n",
              "4            0     yes  \n",
              "\n",
              "[5 rows x 463 columns]"
            ],
            "text/html": [
              "\n",
              "  <div id=\"df-0cd4ecbe-dff7-4a8e-9f8b-d1094bf24b98\" class=\"colab-df-container\">\n",
              "    <div>\n",
              "<style scoped>\n",
              "    .dataframe tbody tr th:only-of-type {\n",
              "        vertical-align: middle;\n",
              "    }\n",
              "\n",
              "    .dataframe tbody tr th {\n",
              "        vertical-align: top;\n",
              "    }\n",
              "\n",
              "    .dataframe thead th {\n",
              "        text-align: right;\n",
              "    }\n",
              "</style>\n",
              "<table border=\"1\" class=\"dataframe\">\n",
              "  <thead>\n",
              "    <tr style=\"text-align: right;\">\n",
              "      <th></th>\n",
              "      <th>ACT_NOW</th>\n",
              "      <th>ADDRESSES_ON_CD</th>\n",
              "      <th>ADULT_SITE</th>\n",
              "      <th>ADVERT_CODE</th>\n",
              "      <th>ADVERT_CODE2</th>\n",
              "      <th>ALL_CAPS_HEADER</th>\n",
              "      <th>ALL_CAP_PORN</th>\n",
              "      <th>ALL_NATURAL</th>\n",
              "      <th>AMATEUR_PORN</th>\n",
              "      <th>AMAZING</th>\n",
              "      <th>...</th>\n",
              "      <th>X_ENC_PRESENT</th>\n",
              "      <th>X_LIBRARY</th>\n",
              "      <th>X_LIST_UNSUBSCRIBE</th>\n",
              "      <th>X_MSMAIL_PRIORITY_HIGH</th>\n",
              "      <th>X_PRECEDENCE_REF</th>\n",
              "      <th>X_PRIORITY_HIGH</th>\n",
              "      <th>X_STORMPOST_TO</th>\n",
              "      <th>X_X_PRESENT</th>\n",
              "      <th>YOUR_INCOME</th>\n",
              "      <th>target</th>\n",
              "    </tr>\n",
              "  </thead>\n",
              "  <tbody>\n",
              "    <tr>\n",
              "      <th>0</th>\n",
              "      <td>0</td>\n",
              "      <td>0</td>\n",
              "      <td>0</td>\n",
              "      <td>0</td>\n",
              "      <td>0</td>\n",
              "      <td>0</td>\n",
              "      <td>0</td>\n",
              "      <td>0</td>\n",
              "      <td>0</td>\n",
              "      <td>0</td>\n",
              "      <td>...</td>\n",
              "      <td>0</td>\n",
              "      <td>0</td>\n",
              "      <td>0</td>\n",
              "      <td>0</td>\n",
              "      <td>0</td>\n",
              "      <td>0</td>\n",
              "      <td>0</td>\n",
              "      <td>0</td>\n",
              "      <td>0</td>\n",
              "      <td>yes</td>\n",
              "    </tr>\n",
              "    <tr>\n",
              "      <th>1</th>\n",
              "      <td>0</td>\n",
              "      <td>0</td>\n",
              "      <td>0</td>\n",
              "      <td>0</td>\n",
              "      <td>0</td>\n",
              "      <td>0</td>\n",
              "      <td>0</td>\n",
              "      <td>0</td>\n",
              "      <td>0</td>\n",
              "      <td>0</td>\n",
              "      <td>...</td>\n",
              "      <td>0</td>\n",
              "      <td>0</td>\n",
              "      <td>0</td>\n",
              "      <td>0</td>\n",
              "      <td>0</td>\n",
              "      <td>0</td>\n",
              "      <td>0</td>\n",
              "      <td>0</td>\n",
              "      <td>0</td>\n",
              "      <td>no</td>\n",
              "    </tr>\n",
              "    <tr>\n",
              "      <th>2</th>\n",
              "      <td>0</td>\n",
              "      <td>0</td>\n",
              "      <td>0</td>\n",
              "      <td>0</td>\n",
              "      <td>0</td>\n",
              "      <td>0</td>\n",
              "      <td>0</td>\n",
              "      <td>0</td>\n",
              "      <td>0</td>\n",
              "      <td>0</td>\n",
              "      <td>...</td>\n",
              "      <td>0</td>\n",
              "      <td>0</td>\n",
              "      <td>0</td>\n",
              "      <td>0</td>\n",
              "      <td>0</td>\n",
              "      <td>0</td>\n",
              "      <td>0</td>\n",
              "      <td>0</td>\n",
              "      <td>0</td>\n",
              "      <td>yes</td>\n",
              "    </tr>\n",
              "    <tr>\n",
              "      <th>3</th>\n",
              "      <td>0</td>\n",
              "      <td>0</td>\n",
              "      <td>0</td>\n",
              "      <td>0</td>\n",
              "      <td>0</td>\n",
              "      <td>0</td>\n",
              "      <td>0</td>\n",
              "      <td>0</td>\n",
              "      <td>0</td>\n",
              "      <td>0</td>\n",
              "      <td>...</td>\n",
              "      <td>0</td>\n",
              "      <td>0</td>\n",
              "      <td>0</td>\n",
              "      <td>0</td>\n",
              "      <td>0</td>\n",
              "      <td>0</td>\n",
              "      <td>0</td>\n",
              "      <td>0</td>\n",
              "      <td>0</td>\n",
              "      <td>no</td>\n",
              "    </tr>\n",
              "    <tr>\n",
              "      <th>4</th>\n",
              "      <td>0</td>\n",
              "      <td>0</td>\n",
              "      <td>0</td>\n",
              "      <td>0</td>\n",
              "      <td>0</td>\n",
              "      <td>0</td>\n",
              "      <td>0</td>\n",
              "      <td>0</td>\n",
              "      <td>0</td>\n",
              "      <td>0</td>\n",
              "      <td>...</td>\n",
              "      <td>0</td>\n",
              "      <td>0</td>\n",
              "      <td>0</td>\n",
              "      <td>0</td>\n",
              "      <td>0</td>\n",
              "      <td>0</td>\n",
              "      <td>0</td>\n",
              "      <td>0</td>\n",
              "      <td>0</td>\n",
              "      <td>yes</td>\n",
              "    </tr>\n",
              "  </tbody>\n",
              "</table>\n",
              "<p>5 rows × 463 columns</p>\n",
              "</div>\n",
              "    <div class=\"colab-df-buttons\">\n",
              "\n",
              "  <div class=\"colab-df-container\">\n",
              "    <button class=\"colab-df-convert\" onclick=\"convertToInteractive('df-0cd4ecbe-dff7-4a8e-9f8b-d1094bf24b98')\"\n",
              "            title=\"Convert this dataframe to an interactive table.\"\n",
              "            style=\"display:none;\">\n",
              "\n",
              "  <svg xmlns=\"http://www.w3.org/2000/svg\" height=\"24px\" viewBox=\"0 -960 960 960\">\n",
              "    <path d=\"M120-120v-720h720v720H120Zm60-500h600v-160H180v160Zm220 220h160v-160H400v160Zm0 220h160v-160H400v160ZM180-400h160v-160H180v160Zm440 0h160v-160H620v160ZM180-180h160v-160H180v160Zm440 0h160v-160H620v160Z\"/>\n",
              "  </svg>\n",
              "    </button>\n",
              "\n",
              "  <style>\n",
              "    .colab-df-container {\n",
              "      display:flex;\n",
              "      gap: 12px;\n",
              "    }\n",
              "\n",
              "    .colab-df-convert {\n",
              "      background-color: #E8F0FE;\n",
              "      border: none;\n",
              "      border-radius: 50%;\n",
              "      cursor: pointer;\n",
              "      display: none;\n",
              "      fill: #1967D2;\n",
              "      height: 32px;\n",
              "      padding: 0 0 0 0;\n",
              "      width: 32px;\n",
              "    }\n",
              "\n",
              "    .colab-df-convert:hover {\n",
              "      background-color: #E2EBFA;\n",
              "      box-shadow: 0px 1px 2px rgba(60, 64, 67, 0.3), 0px 1px 3px 1px rgba(60, 64, 67, 0.15);\n",
              "      fill: #174EA6;\n",
              "    }\n",
              "\n",
              "    .colab-df-buttons div {\n",
              "      margin-bottom: 4px;\n",
              "    }\n",
              "\n",
              "    [theme=dark] .colab-df-convert {\n",
              "      background-color: #3B4455;\n",
              "      fill: #D2E3FC;\n",
              "    }\n",
              "\n",
              "    [theme=dark] .colab-df-convert:hover {\n",
              "      background-color: #434B5C;\n",
              "      box-shadow: 0px 1px 3px 1px rgba(0, 0, 0, 0.15);\n",
              "      filter: drop-shadow(0px 1px 2px rgba(0, 0, 0, 0.3));\n",
              "      fill: #FFFFFF;\n",
              "    }\n",
              "  </style>\n",
              "\n",
              "    <script>\n",
              "      const buttonEl =\n",
              "        document.querySelector('#df-0cd4ecbe-dff7-4a8e-9f8b-d1094bf24b98 button.colab-df-convert');\n",
              "      buttonEl.style.display =\n",
              "        google.colab.kernel.accessAllowed ? 'block' : 'none';\n",
              "\n",
              "      async function convertToInteractive(key) {\n",
              "        const element = document.querySelector('#df-0cd4ecbe-dff7-4a8e-9f8b-d1094bf24b98');\n",
              "        const dataTable =\n",
              "          await google.colab.kernel.invokeFunction('convertToInteractive',\n",
              "                                                    [key], {});\n",
              "        if (!dataTable) return;\n",
              "\n",
              "        const docLinkHtml = 'Like what you see? Visit the ' +\n",
              "          '<a target=\"_blank\" href=https://colab.research.google.com/notebooks/data_table.ipynb>data table notebook</a>'\n",
              "          + ' to learn more about interactive tables.';\n",
              "        element.innerHTML = '';\n",
              "        dataTable['output_type'] = 'display_data';\n",
              "        await google.colab.output.renderOutput(dataTable, element);\n",
              "        const docLink = document.createElement('div');\n",
              "        docLink.innerHTML = docLinkHtml;\n",
              "        element.appendChild(docLink);\n",
              "      }\n",
              "    </script>\n",
              "  </div>\n",
              "\n",
              "\n",
              "    <div id=\"df-59ade1f9-c29b-4610-8d11-c460566ab366\">\n",
              "      <button class=\"colab-df-quickchart\" onclick=\"quickchart('df-59ade1f9-c29b-4610-8d11-c460566ab366')\"\n",
              "                title=\"Suggest charts\"\n",
              "                style=\"display:none;\">\n",
              "\n",
              "<svg xmlns=\"http://www.w3.org/2000/svg\" height=\"24px\"viewBox=\"0 0 24 24\"\n",
              "     width=\"24px\">\n",
              "    <g>\n",
              "        <path d=\"M19 3H5c-1.1 0-2 .9-2 2v14c0 1.1.9 2 2 2h14c1.1 0 2-.9 2-2V5c0-1.1-.9-2-2-2zM9 17H7v-7h2v7zm4 0h-2V7h2v10zm4 0h-2v-4h2v4z\"/>\n",
              "    </g>\n",
              "</svg>\n",
              "      </button>\n",
              "\n",
              "<style>\n",
              "  .colab-df-quickchart {\n",
              "      --bg-color: #E8F0FE;\n",
              "      --fill-color: #1967D2;\n",
              "      --hover-bg-color: #E2EBFA;\n",
              "      --hover-fill-color: #174EA6;\n",
              "      --disabled-fill-color: #AAA;\n",
              "      --disabled-bg-color: #DDD;\n",
              "  }\n",
              "\n",
              "  [theme=dark] .colab-df-quickchart {\n",
              "      --bg-color: #3B4455;\n",
              "      --fill-color: #D2E3FC;\n",
              "      --hover-bg-color: #434B5C;\n",
              "      --hover-fill-color: #FFFFFF;\n",
              "      --disabled-bg-color: #3B4455;\n",
              "      --disabled-fill-color: #666;\n",
              "  }\n",
              "\n",
              "  .colab-df-quickchart {\n",
              "    background-color: var(--bg-color);\n",
              "    border: none;\n",
              "    border-radius: 50%;\n",
              "    cursor: pointer;\n",
              "    display: none;\n",
              "    fill: var(--fill-color);\n",
              "    height: 32px;\n",
              "    padding: 0;\n",
              "    width: 32px;\n",
              "  }\n",
              "\n",
              "  .colab-df-quickchart:hover {\n",
              "    background-color: var(--hover-bg-color);\n",
              "    box-shadow: 0 1px 2px rgba(60, 64, 67, 0.3), 0 1px 3px 1px rgba(60, 64, 67, 0.15);\n",
              "    fill: var(--button-hover-fill-color);\n",
              "  }\n",
              "\n",
              "  .colab-df-quickchart-complete:disabled,\n",
              "  .colab-df-quickchart-complete:disabled:hover {\n",
              "    background-color: var(--disabled-bg-color);\n",
              "    fill: var(--disabled-fill-color);\n",
              "    box-shadow: none;\n",
              "  }\n",
              "\n",
              "  .colab-df-spinner {\n",
              "    border: 2px solid var(--fill-color);\n",
              "    border-color: transparent;\n",
              "    border-bottom-color: var(--fill-color);\n",
              "    animation:\n",
              "      spin 1s steps(1) infinite;\n",
              "  }\n",
              "\n",
              "  @keyframes spin {\n",
              "    0% {\n",
              "      border-color: transparent;\n",
              "      border-bottom-color: var(--fill-color);\n",
              "      border-left-color: var(--fill-color);\n",
              "    }\n",
              "    20% {\n",
              "      border-color: transparent;\n",
              "      border-left-color: var(--fill-color);\n",
              "      border-top-color: var(--fill-color);\n",
              "    }\n",
              "    30% {\n",
              "      border-color: transparent;\n",
              "      border-left-color: var(--fill-color);\n",
              "      border-top-color: var(--fill-color);\n",
              "      border-right-color: var(--fill-color);\n",
              "    }\n",
              "    40% {\n",
              "      border-color: transparent;\n",
              "      border-right-color: var(--fill-color);\n",
              "      border-top-color: var(--fill-color);\n",
              "    }\n",
              "    60% {\n",
              "      border-color: transparent;\n",
              "      border-right-color: var(--fill-color);\n",
              "    }\n",
              "    80% {\n",
              "      border-color: transparent;\n",
              "      border-right-color: var(--fill-color);\n",
              "      border-bottom-color: var(--fill-color);\n",
              "    }\n",
              "    90% {\n",
              "      border-color: transparent;\n",
              "      border-bottom-color: var(--fill-color);\n",
              "    }\n",
              "  }\n",
              "</style>\n",
              "\n",
              "      <script>\n",
              "        async function quickchart(key) {\n",
              "          const quickchartButtonEl =\n",
              "            document.querySelector('#' + key + ' button');\n",
              "          quickchartButtonEl.disabled = true;  // To prevent multiple clicks.\n",
              "          quickchartButtonEl.classList.add('colab-df-spinner');\n",
              "          try {\n",
              "            const charts = await google.colab.kernel.invokeFunction(\n",
              "                'suggestCharts', [key], {});\n",
              "          } catch (error) {\n",
              "            console.error('Error during call to suggestCharts:', error);\n",
              "          }\n",
              "          quickchartButtonEl.classList.remove('colab-df-spinner');\n",
              "          quickchartButtonEl.classList.add('colab-df-quickchart-complete');\n",
              "        }\n",
              "        (() => {\n",
              "          let quickchartButtonEl =\n",
              "            document.querySelector('#df-59ade1f9-c29b-4610-8d11-c460566ab366 button');\n",
              "          quickchartButtonEl.style.display =\n",
              "            google.colab.kernel.accessAllowed ? 'block' : 'none';\n",
              "        })();\n",
              "      </script>\n",
              "    </div>\n",
              "\n",
              "    </div>\n",
              "  </div>\n"
            ],
            "application/vnd.google.colaboratory.intrinsic+json": {
              "type": "dataframe",
              "variable_name": "df"
            }
          },
          "metadata": {},
          "execution_count": 27
        }
      ]
    },
    {
      "cell_type": "markdown",
      "source": [
        "# Preprocess Target & Check Missing Values"
      ],
      "metadata": {
        "id": "ixxjBk-ccMLq"
      }
    },
    {
      "cell_type": "code",
      "source": [
        "df['target'] = df['target'].map({'yes': 1, 'no': 0})\n",
        "print(\"Missing values:\", df.isnull().sum().sum())"
      ],
      "metadata": {
        "colab": {
          "base_uri": "https://localhost:8080/"
        },
        "id": "oGhoyeiNbqma",
        "outputId": "f7968a14-ce00-4b1b-9b0d-e7d01296f10a"
      },
      "execution_count": 28,
      "outputs": [
        {
          "output_type": "stream",
          "name": "stdout",
          "text": [
            "Missing values: 0\n"
          ]
        }
      ]
    },
    {
      "cell_type": "markdown",
      "source": [
        "# Split Dataset"
      ],
      "metadata": {
        "id": "i3fpl4E3cNzy"
      }
    },
    {
      "cell_type": "code",
      "source": [
        "X = df.drop('target', axis=1)\n",
        "y = df['target']\n",
        "\n",
        "X_train, X_test, y_train, y_test = train_test_split(\n",
        "    X, y, test_size=0.2, stratify=y, random_state=42\n",
        ")"
      ],
      "metadata": {
        "id": "6ZlJkZ-kb0V-"
      },
      "execution_count": 29,
      "outputs": []
    },
    {
      "cell_type": "code",
      "source": [
        "from sklearn.metrics import classification_report, roc_auc_score, confusion_matrix\n",
        "# Define all models\n",
        "models = {\n",
        "    \"Logistic Regression\": LogisticRegression(max_iter=1000),\n",
        "    \"Decision Tree\": DecisionTreeClassifier(),\n",
        "    \"Random Forest\": RandomForestClassifier(),\n",
        "    \"SVM\": SVC(probability=True),\n",
        "    \"k-NN\": KNeighborsClassifier(),\n",
        "    \"Naive Bayes\": GaussianNB(),\n",
        "    \"MLP (Neural Net)\": MLPClassifier(max_iter=1000)\n",
        "}\n",
        "\n",
        "# Evaluation function\n",
        "def evaluate_model(name, model):\n",
        "    model.fit(X_train, y_train)\n",
        "    y_pred = model.predict(X_test)\n",
        "    y_prob = model.predict_proba(X_test)[:, 1] if hasattr(model, \"predict_proba\") else model.decision_function(X_test)\n",
        "\n",
        "    cm = confusion_matrix(y_test, y_pred)\n",
        "    tn, fp, fn, tp = cm.ravel()\n",
        "\n",
        "    sensitivity = tp / (tp + fn)\n",
        "    specificity = tn / (tn + fp)\n",
        "    fnr = fn / (fn + tp)\n",
        "    fpr = fp / (fp + tn)\n",
        "    auc = roc_auc_score(y_test, y_prob)\n",
        "\n",
        "    print(f\"🔍 {name}\")\n",
        "    print(\"Confusion Matrix:\")\n",
        "    print(cm)\n",
        "    print(f\"Sensitivity (Recall for Spam): {sensitivity:.4f}\")\n",
        "    print(f\"Specificity (Recall for Non-Spam): {specificity:.4f}\")\n",
        "    print(f\"FNR (Spam → Non-Spam): {fnr:.4f}\")\n",
        "    print(f\"FPR (Non-Spam → Spam): {fpr:.4f}\")\n",
        "    print(f\"AUC: {auc:.4f}\")\n",
        "    print(\"-\" * 50)\n",
        "\n",
        "# Loop through and evaluate all models\n",
        "for name, model in models.items():\n",
        "    evaluate_model(name, model)"
      ],
      "metadata": {
        "colab": {
          "base_uri": "https://localhost:8080/"
        },
        "id": "R0jLYDCQc7uZ",
        "outputId": "dc1b79f2-f076-4ee0-800b-6fd28ba42bff"
      },
      "execution_count": 30,
      "outputs": [
        {
          "output_type": "stream",
          "name": "stdout",
          "text": [
            "🔍 Logistic Regression\n",
            "Confusion Matrix:\n",
            "[[590   0]\n",
            " [ 17 351]]\n",
            "Sensitivity (Recall for Spam): 0.9538\n",
            "Specificity (Recall for Non-Spam): 1.0000\n",
            "FNR (Spam → Non-Spam): 0.0462\n",
            "FPR (Non-Spam → Spam): 0.0000\n",
            "AUC: 0.9990\n",
            "--------------------------------------------------\n",
            "🔍 Decision Tree\n",
            "Confusion Matrix:\n",
            "[[582   8]\n",
            " [ 12 356]]\n",
            "Sensitivity (Recall for Spam): 0.9674\n",
            "Specificity (Recall for Non-Spam): 0.9864\n",
            "FNR (Spam → Non-Spam): 0.0326\n",
            "FPR (Non-Spam → Spam): 0.0136\n",
            "AUC: 0.9818\n",
            "--------------------------------------------------\n",
            "🔍 Random Forest\n",
            "Confusion Matrix:\n",
            "[[587   3]\n",
            " [ 11 357]]\n",
            "Sensitivity (Recall for Spam): 0.9701\n",
            "Specificity (Recall for Non-Spam): 0.9949\n",
            "FNR (Spam → Non-Spam): 0.0299\n",
            "FPR (Non-Spam → Spam): 0.0051\n",
            "AUC: 0.9970\n",
            "--------------------------------------------------\n",
            "🔍 SVM\n",
            "Confusion Matrix:\n",
            "[[589   1]\n",
            " [ 18 350]]\n",
            "Sensitivity (Recall for Spam): 0.9511\n",
            "Specificity (Recall for Non-Spam): 0.9983\n",
            "FNR (Spam → Non-Spam): 0.0489\n",
            "FPR (Non-Spam → Spam): 0.0017\n",
            "AUC: 0.9984\n",
            "--------------------------------------------------\n",
            "🔍 k-NN\n",
            "Confusion Matrix:\n",
            "[[589   1]\n",
            " [ 63 305]]\n",
            "Sensitivity (Recall for Spam): 0.8288\n",
            "Specificity (Recall for Non-Spam): 0.9983\n",
            "FNR (Spam → Non-Spam): 0.1712\n",
            "FPR (Non-Spam → Spam): 0.0017\n",
            "AUC: 0.9696\n",
            "--------------------------------------------------\n",
            "🔍 Naive Bayes\n",
            "Confusion Matrix:\n",
            "[[583   7]\n",
            " [ 24 344]]\n",
            "Sensitivity (Recall for Spam): 0.9348\n",
            "Specificity (Recall for Non-Spam): 0.9881\n",
            "FNR (Spam → Non-Spam): 0.0652\n",
            "FPR (Non-Spam → Spam): 0.0119\n",
            "AUC: 0.9667\n",
            "--------------------------------------------------\n",
            "🔍 MLP (Neural Net)\n",
            "Confusion Matrix:\n",
            "[[587   3]\n",
            " [ 12 356]]\n",
            "Sensitivity (Recall for Spam): 0.9674\n",
            "Specificity (Recall for Non-Spam): 0.9949\n",
            "FNR (Spam → Non-Spam): 0.0326\n",
            "FPR (Non-Spam → Spam): 0.0051\n",
            "AUC: 0.9964\n",
            "--------------------------------------------------\n"
          ]
        }
      ]
    },
    {
      "cell_type": "code",
      "source": [
        "from sklearn.model_selection import GridSearchCV\n",
        "\n",
        "param_grid = {'C': [0.001, 0.01, 0.1, 1, 10, 100]}\n",
        "\n",
        "grid = GridSearchCV(\n",
        "    LogisticRegression(max_iter=1000),\n",
        "    param_grid,\n",
        "    scoring='recall',\n",
        "    cv=5\n",
        ")\n",
        "\n",
        "grid.fit(X_train, y_train)\n",
        "\n",
        "print(\"✅ Best C:\", grid.best_params_['C'])\n"
      ],
      "metadata": {
        "colab": {
          "base_uri": "https://localhost:8080/"
        },
        "id": "v_sd0OZuikK6",
        "outputId": "dc98f6ba-90cc-4d23-beb5-5a0456c3a89f"
      },
      "execution_count": 31,
      "outputs": [
        {
          "output_type": "stream",
          "name": "stdout",
          "text": [
            "✅ Best C: 10\n"
          ]
        }
      ]
    },
    {
      "cell_type": "code",
      "source": [
        "best_lr = grid.best_estimator_\n",
        "\n",
        "y_pred = best_lr.predict(X_test)\n",
        "y_prob = best_lr.predict_proba(X_test)[:, 1]\n",
        "cm = confusion_matrix(y_test, y_pred)\n",
        "tn, fp, fn, tp = cm.ravel()\n",
        "\n",
        "sensitivity = tp / (tp + fn)\n",
        "specificity = tn / (tn + fp)\n",
        "fnr = fn / (fn + tp)\n",
        "fpr = fp / (fp + tn)\n",
        "auc = roc_auc_score(y_test, y_prob)\n",
        "\n",
        "print(\"\\n🔍 Tuned Logistic Regression Results\")\n",
        "print(\"Confusion Matrix:\\n\", cm)\n",
        "print(f\"Sensitivity (Recall): {sensitivity:.4f}\")\n",
        "print(f\"Specificity: {specificity:.4f}\")\n",
        "print(f\"FNR: {fnr:.4f}\")\n",
        "print(f\"FPR: {fpr:.4f}\")\n",
        "print(f\"AUC: {auc:.4f}\")\n"
      ],
      "metadata": {
        "colab": {
          "base_uri": "https://localhost:8080/"
        },
        "id": "3GuxuOefim-K",
        "outputId": "c95450cc-2cc1-419d-9f00-70083208e02b"
      },
      "execution_count": 32,
      "outputs": [
        {
          "output_type": "stream",
          "name": "stdout",
          "text": [
            "\n",
            "🔍 Tuned Logistic Regression Results\n",
            "Confusion Matrix:\n",
            " [[586   4]\n",
            " [ 15 353]]\n",
            "Sensitivity (Recall): 0.9592\n",
            "Specificity: 0.9932\n",
            "FNR: 0.0408\n",
            "FPR: 0.0068\n",
            "AUC: 0.9978\n"
          ]
        }
      ]
    },
    {
      "cell_type": "markdown",
      "source": [
        "# Apply RFE on Training Set"
      ],
      "metadata": {
        "id": "IP7Rjw0MjNjl"
      }
    },
    {
      "cell_type": "code",
      "source": [
        "from sklearn.feature_selection import RFE\n",
        "\n",
        "# Use Logistic Regression as the base model\n",
        "lr = LogisticRegression(max_iter=1000)\n",
        "\n",
        "# Set number of features to select (start with 50 or 100 out of ~460)\n",
        "rfe = RFE(estimator=lr, n_features_to_select=100, step=50)\n",
        "rfe.fit(X_train, y_train)\n",
        "\n",
        "# Apply RFE to reduce both train and test features\n",
        "X_train_rfe = rfe.transform(X_train)\n",
        "X_test_rfe = rfe.transform(X_test)\n"
      ],
      "metadata": {
        "id": "bzF2CHHQjL9V"
      },
      "execution_count": 33,
      "outputs": []
    },
    {
      "cell_type": "markdown",
      "source": [
        "# Retrain Logistic Regression on Reduced Features"
      ],
      "metadata": {
        "id": "OWuR5jf0jUlt"
      }
    },
    {
      "cell_type": "code",
      "source": [
        "# Train on reduced features\n",
        "lr_rfe = LogisticRegression(max_iter=1000)\n",
        "lr_rfe.fit(X_train_rfe, y_train)\n",
        "\n",
        "# Evaluate\n",
        "y_pred_rfe = lr_rfe.predict(X_test_rfe)\n",
        "y_prob_rfe = lr_rfe.predict_proba(X_test_rfe)[:, 1]\n",
        "\n",
        "cm = confusion_matrix(y_test, y_pred_rfe)\n",
        "tn, fp, fn, tp = cm.ravel()\n",
        "\n",
        "sensitivity = tp / (tp + fn)\n",
        "specificity = tn / (tn + fp)\n",
        "fnr = fn / (fn + tp)\n",
        "fpr = fp / (fp + tn)\n",
        "auc = roc_auc_score(y_test, y_prob_rfe)\n",
        "\n",
        "print(\"\\n🔍 Logistic Regression with RFE (100 Features)\")\n",
        "print(\"Confusion Matrix:\\n\", cm)\n",
        "print(f\"Sensitivity (Recall): {sensitivity:.4f}\")\n",
        "print(f\"Specificity: {specificity:.4f}\")\n",
        "print(f\"FNR: {fnr:.4f}\")\n",
        "print(f\"FPR: {fpr:.4f}\")\n",
        "print(f\"AUC: {auc:.4f}\")\n"
      ],
      "metadata": {
        "colab": {
          "base_uri": "https://localhost:8080/"
        },
        "id": "lq4LhzWQjWeN",
        "outputId": "f1cb9147-bba8-4857-b396-085b308bb380"
      },
      "execution_count": 34,
      "outputs": [
        {
          "output_type": "stream",
          "name": "stdout",
          "text": [
            "\n",
            "🔍 Logistic Regression with RFE (100 Features)\n",
            "Confusion Matrix:\n",
            " [[590   0]\n",
            " [ 19 349]]\n",
            "Sensitivity (Recall): 0.9484\n",
            "Specificity: 1.0000\n",
            "FNR: 0.0516\n",
            "FPR: 0.0000\n",
            "AUC: 0.9987\n"
          ]
        }
      ]
    },
    {
      "cell_type": "markdown",
      "source": [
        "# Apply PCA (Preserve 95% of Variance)"
      ],
      "metadata": {
        "id": "Z-9p8yDkj4nl"
      }
    },
    {
      "cell_type": "code",
      "source": [
        "from sklearn.decomposition import PCA\n",
        "\n",
        "# Apply PCA to training data\n",
        "pca = PCA(n_components=0.95)  # Keep 95% of the variance\n",
        "X_train_pca = pca.fit_transform(X_train)\n",
        "X_test_pca = pca.transform(X_test)\n",
        "\n",
        "print(\"Original features:\", X_train.shape[1])\n",
        "print(\"Reduced features after PCA:\", X_train_pca.shape[1])\n"
      ],
      "metadata": {
        "colab": {
          "base_uri": "https://localhost:8080/"
        },
        "id": "zgJkf398j3O-",
        "outputId": "23eff7ff-33e2-47b4-c7cc-c3b2d51deba4"
      },
      "execution_count": 35,
      "outputs": [
        {
          "output_type": "stream",
          "name": "stdout",
          "text": [
            "Original features: 462\n",
            "Reduced features after PCA: 182\n"
          ]
        }
      ]
    },
    {
      "cell_type": "markdown",
      "source": [
        "# Train Logistic Regression on PCA Features"
      ],
      "metadata": {
        "id": "Fk5IkiHXj_Xa"
      }
    },
    {
      "cell_type": "code",
      "source": [
        "# Train model on PCA-transformed data\n",
        "lr_pca = LogisticRegression(max_iter=1000)\n",
        "lr_pca.fit(X_train_pca, y_train)\n",
        "\n",
        "# Evaluate model\n",
        "y_pred_pca = lr_pca.predict(X_test_pca)\n",
        "y_prob_pca = lr_pca.predict_proba(X_test_pca)[:, 1]\n",
        "\n",
        "cm = confusion_matrix(y_test, y_pred_pca)\n",
        "tn, fp, fn, tp = cm.ravel()\n",
        "\n",
        "sensitivity = tp / (tp + fn)\n",
        "specificity = tn / (tn + fp)\n",
        "fnr = fn / (fn + tp)\n",
        "fpr = fp / (fp + tn)\n",
        "auc = roc_auc_score(y_test, y_prob_pca)\n",
        "\n",
        "print(\"\\n🔍 Logistic Regression with PCA (95% Variance)\")\n",
        "print(\"Confusion Matrix:\\n\", cm)\n",
        "print(f\"Sensitivity (Recall): {sensitivity:.4f}\")\n",
        "print(f\"Specificity: {specificity:.4f}\")\n",
        "print(f\"FNR: {fnr:.4f}\")\n",
        "print(f\"FPR: {fpr:.4f}\")\n",
        "print(f\"AUC: {auc:.4f}\")\n"
      ],
      "metadata": {
        "colab": {
          "base_uri": "https://localhost:8080/"
        },
        "id": "oyIVChyWkCz1",
        "outputId": "d1477ed6-8711-469b-c659-b09f383ad8be"
      },
      "execution_count": 36,
      "outputs": [
        {
          "output_type": "stream",
          "name": "stdout",
          "text": [
            "\n",
            "🔍 Logistic Regression with PCA (95% Variance)\n",
            "Confusion Matrix:\n",
            " [[589   1]\n",
            " [ 17 351]]\n",
            "Sensitivity (Recall): 0.9538\n",
            "Specificity: 0.9983\n",
            "FNR: 0.0462\n",
            "FPR: 0.0017\n",
            "AUC: 0.9987\n"
          ]
        }
      ]
    },
    {
      "cell_type": "markdown",
      "source": [
        "# Apply Oversampling and Undersampling"
      ],
      "metadata": {
        "id": "WlQ0YpifkfG6"
      }
    },
    {
      "cell_type": "code",
      "source": [
        "from imblearn.over_sampling import RandomOverSampler\n",
        "from imblearn.under_sampling import RandomUnderSampler\n",
        "\n",
        "# Check class balance\n",
        "print(\"Original class distribution:\")\n",
        "print(y_train.value_counts())\n",
        "\n",
        "# Apply random oversampling\n",
        "ros = RandomOverSampler(random_state=42)\n",
        "X_train_over, y_train_over = ros.fit_resample(X_train, y_train)\n",
        "\n",
        "# Apply random undersampling\n",
        "rus = RandomUnderSampler(random_state=42)\n",
        "X_train_under, y_train_under = rus.fit_resample(X_train, y_train)\n",
        "\n",
        "print(\"\\nOversampled class distribution:\")\n",
        "print(y_train_over.value_counts())\n",
        "\n",
        "print(\"\\nUndersampled class distribution:\")\n",
        "print(y_train_under.value_counts())\n"
      ],
      "metadata": {
        "colab": {
          "base_uri": "https://localhost:8080/"
        },
        "id": "a6Z2Th7JkeS3",
        "outputId": "d2579ddb-79e0-4ece-e390-233f6a3c8b3e"
      },
      "execution_count": 37,
      "outputs": [
        {
          "output_type": "stream",
          "name": "stdout",
          "text": [
            "Original class distribution:\n",
            "target\n",
            "0    2359\n",
            "1    1472\n",
            "Name: count, dtype: int64\n",
            "\n",
            "Oversampled class distribution:\n",
            "target\n",
            "0    2359\n",
            "1    2359\n",
            "Name: count, dtype: int64\n",
            "\n",
            "Undersampled class distribution:\n",
            "target\n",
            "0    1472\n",
            "1    1472\n",
            "Name: count, dtype: int64\n"
          ]
        }
      ]
    },
    {
      "cell_type": "markdown",
      "source": [
        "# Train and Evaluate on Oversampled Data"
      ],
      "metadata": {
        "id": "AVFc6YTVklAx"
      }
    },
    {
      "cell_type": "code",
      "source": [
        "# Train on oversampled data\n",
        "lr_over = LogisticRegression(max_iter=1000)\n",
        "lr_over.fit(X_train_over, y_train_over)\n",
        "\n",
        "y_pred_over = lr_over.predict(X_test)\n",
        "y_prob_over = lr_over.predict_proba(X_test)[:, 1]\n",
        "\n",
        "cm = confusion_matrix(y_test, y_pred_over)\n",
        "tn, fp, fn, tp = cm.ravel()\n",
        "\n",
        "sensitivity = tp / (tp + fn)\n",
        "specificity = tn / (tn + fp)\n",
        "fnr = fn / (fn + tp)\n",
        "fpr = fp / (fp + tn)\n",
        "auc = roc_auc_score(y_test, y_prob_over)\n",
        "\n",
        "print(\"\\n🔍 Logistic Regression on Oversampled Data\")\n",
        "print(\"Confusion Matrix:\\n\", cm)\n",
        "print(f\"Sensitivity: {sensitivity:.4f}\")\n",
        "print(f\"Specificity: {specificity:.4f}\")\n",
        "print(f\"FNR: {fnr:.4f}\")\n",
        "print(f\"FPR: {fpr:.4f}\")\n",
        "print(f\"AUC: {auc:.4f}\")\n"
      ],
      "metadata": {
        "colab": {
          "base_uri": "https://localhost:8080/"
        },
        "id": "OO8SOsxUkoiV",
        "outputId": "b2393063-648b-47af-cf17-36fb417ac2b6"
      },
      "execution_count": 38,
      "outputs": [
        {
          "output_type": "stream",
          "name": "stdout",
          "text": [
            "\n",
            "🔍 Logistic Regression on Oversampled Data\n",
            "Confusion Matrix:\n",
            " [[589   1]\n",
            " [ 17 351]]\n",
            "Sensitivity: 0.9538\n",
            "Specificity: 0.9983\n",
            "FNR: 0.0462\n",
            "FPR: 0.0017\n",
            "AUC: 0.9988\n"
          ]
        }
      ]
    },
    {
      "cell_type": "markdown",
      "source": [
        "# Apply SMOTE"
      ],
      "metadata": {
        "id": "54tulbdvnOoS"
      }
    },
    {
      "cell_type": "code",
      "source": [
        "from imblearn.over_sampling import SMOTE\n",
        "\n",
        "# Apply SMOTE to training data\n",
        "sm = SMOTE(random_state=42)\n",
        "X_train_smote, y_train_smote = sm.fit_resample(X_train, y_train)\n",
        "\n",
        "print(\"SMOTE-balanced class distribution:\")\n",
        "print(y_train_smote.value_counts())\n"
      ],
      "metadata": {
        "colab": {
          "base_uri": "https://localhost:8080/"
        },
        "id": "vlLRcdfunSXW",
        "outputId": "79f3079d-fa15-42a1-fab3-c5b86167ca25"
      },
      "execution_count": 39,
      "outputs": [
        {
          "output_type": "stream",
          "name": "stdout",
          "text": [
            "SMOTE-balanced class distribution:\n",
            "target\n",
            "0    2359\n",
            "1    2359\n",
            "Name: count, dtype: int64\n"
          ]
        }
      ]
    },
    {
      "cell_type": "markdown",
      "source": [
        "# Train and Evaluate Model on SMOTE Data"
      ],
      "metadata": {
        "id": "W6iQu0EqncSi"
      }
    },
    {
      "cell_type": "code",
      "source": [
        "# Train model on SMOTE data\n",
        "lr_smote = LogisticRegression(max_iter=1000)\n",
        "lr_smote.fit(X_train_smote, y_train_smote)\n",
        "\n",
        "# Evaluate on original test set\n",
        "y_pred_smote = lr_smote.predict(X_test)\n",
        "y_prob_smote = lr_smote.predict_proba(X_test)[:, 1]\n",
        "\n",
        "cm = confusion_matrix(y_test, y_pred_smote)\n",
        "tn, fp, fn, tp = cm.ravel()\n",
        "\n",
        "sensitivity = tp / (tp + fn)\n",
        "specificity = tn / (tn + fp)\n",
        "fnr = fn / (fn + tp)\n",
        "fpr = fp / (fp + tn)\n",
        "auc = roc_auc_score(y_test, y_prob_smote)\n",
        "\n",
        "print(\"\\n🔍 Logistic Regression with SMOTE\")\n",
        "print(\"Confusion Matrix:\\n\", cm)\n",
        "print(f\"Sensitivity: {sensitivity:.4f}\")\n",
        "print(f\"Specificity: {specificity:.4f}\")\n",
        "print(f\"FNR: {fnr:.4f}\")\n",
        "print(f\"FPR: {fpr:.4f}\")\n",
        "print(f\"AUC: {auc:.4f}\")\n"
      ],
      "metadata": {
        "colab": {
          "base_uri": "https://localhost:8080/"
        },
        "id": "xktAo0gBnVRp",
        "outputId": "47505535-57e4-4caa-b513-cf1454231fd8"
      },
      "execution_count": 40,
      "outputs": [
        {
          "output_type": "stream",
          "name": "stdout",
          "text": [
            "\n",
            "🔍 Logistic Regression with SMOTE\n",
            "Confusion Matrix:\n",
            " [[589   1]\n",
            " [ 10 358]]\n",
            "Sensitivity: 0.9728\n",
            "Specificity: 0.9983\n",
            "FNR: 0.0272\n",
            "FPR: 0.0017\n",
            "AUC: 0.9988\n"
          ]
        }
      ]
    },
    {
      "cell_type": "markdown",
      "source": [
        "# Try Cost Weight = {0:1, 1:5}"
      ],
      "metadata": {
        "id": "M6sr0Irgn795"
      }
    },
    {
      "cell_type": "code",
      "source": [
        "# Cost-sensitive Logistic Regression\n",
        "lr_weighted = LogisticRegression(max_iter=1000, class_weight={0: 1, 1: 5})\n",
        "lr_weighted.fit(X_train, y_train)\n",
        "\n",
        "y_pred_weighted = lr_weighted.predict(X_test)\n",
        "y_prob_weighted = lr_weighted.predict_proba(X_test)[:, 1]\n",
        "\n",
        "cm = confusion_matrix(y_test, y_pred_weighted)\n",
        "tn, fp, fn, tp = cm.ravel()\n",
        "\n",
        "sensitivity = tp / (tp + fn)\n",
        "specificity = tn / (tn + fp)\n",
        "fnr = fn / (fn + tp)\n",
        "fpr = fp / (fp + tn)\n",
        "auc = roc_auc_score(y_test, y_prob_weighted)\n",
        "\n",
        "print(\"🔍 Logistic Regression with class_weight={0:1, 1:5}\")\n",
        "print(\"Confusion Matrix:\\n\", cm)\n",
        "print(f\"Sensitivity: {sensitivity:.4f}\")\n",
        "print(f\"Specificity: {specificity:.4f}\")\n",
        "print(f\"FNR: {fnr:.4f}\")\n",
        "print(f\"FPR: {fpr:.4f}\")\n",
        "print(f\"AUC: {auc:.4f}\")\n"
      ],
      "metadata": {
        "colab": {
          "base_uri": "https://localhost:8080/"
        },
        "id": "2mN6wxnhn9DO",
        "outputId": "be310694-9abe-436c-f735-36e6ffb0aed1"
      },
      "execution_count": 41,
      "outputs": [
        {
          "output_type": "stream",
          "name": "stdout",
          "text": [
            "🔍 Logistic Regression with class_weight={0:1, 1:5}\n",
            "Confusion Matrix:\n",
            " [[583   7]\n",
            " [ 11 357]]\n",
            "Sensitivity: 0.9701\n",
            "Specificity: 0.9881\n",
            "FNR: 0.0299\n",
            "FPR: 0.0119\n",
            "AUC: 0.9985\n"
          ]
        }
      ]
    },
    {
      "cell_type": "markdown",
      "source": [
        "# Try Weight = {0:1, 1:10}"
      ],
      "metadata": {
        "id": "Z3_cpqneoAaq"
      }
    },
    {
      "cell_type": "code",
      "source": [
        "# Even higher weight to spam\n",
        "lr_weighted_10 = LogisticRegression(max_iter=1000, class_weight={0: 1, 1: 10})\n",
        "lr_weighted_10.fit(X_train, y_train)\n",
        "\n",
        "y_pred_weighted_10 = lr_weighted_10.predict(X_test)\n",
        "y_prob_weighted_10 = lr_weighted_10.predict_proba(X_test)[:, 1]\n",
        "\n",
        "cm = confusion_matrix(y_test, y_pred_weighted_10)\n",
        "tn, fp, fn, tp = cm.ravel()\n",
        "\n",
        "sensitivity = tp / (tp + fn)\n",
        "specificity = tn / (tn + fp)\n",
        "fnr = fn / (fn + tp)\n",
        "fpr = fp / (fp + tn)\n",
        "auc = roc_auc_score(y_test, y_prob_weighted_10)\n",
        "\n",
        "print(\"🔍 Logistic Regression with class_weight={0:1, 1:10}\")\n",
        "print(\"Confusion Matrix:\\n\", cm)\n",
        "print(f\"Sensitivity: {sensitivity:.4f}\")\n",
        "print(f\"Specificity: {specificity:.4f}\")\n",
        "print(f\"FNR: {fnr:.4f}\")\n",
        "print(f\"FPR: {fpr:.4f}\")\n",
        "print(f\"AUC: {auc:.4f}\")\n"
      ],
      "metadata": {
        "colab": {
          "base_uri": "https://localhost:8080/"
        },
        "id": "V-rgb1LHoFVx",
        "outputId": "368deb64-250a-4596-f195-89519a697a26"
      },
      "execution_count": 42,
      "outputs": [
        {
          "output_type": "stream",
          "name": "stdout",
          "text": [
            "🔍 Logistic Regression with class_weight={0:1, 1:10}\n",
            "Confusion Matrix:\n",
            " [[575  15]\n",
            " [  6 362]]\n",
            "Sensitivity: 0.9837\n",
            "Specificity: 0.9746\n",
            "FNR: 0.0163\n",
            "FPR: 0.0254\n",
            "AUC: 0.9982\n"
          ]
        }
      ]
    },
    {
      "cell_type": "markdown",
      "source": [
        "# Train and Evaluate AdaBoost"
      ],
      "metadata": {
        "id": "xn1ppSXTo6eu"
      }
    },
    {
      "cell_type": "code",
      "source": [
        "from sklearn.ensemble import AdaBoostClassifier\n",
        "\n",
        "# Create and train AdaBoost model\n",
        "ada = AdaBoostClassifier(n_estimators=100, random_state=42)\n",
        "ada.fit(X_train, y_train)\n",
        "\n",
        "# Predict and evaluate\n",
        "y_pred_ada = ada.predict(X_test)\n",
        "y_prob_ada = ada.predict_proba(X_test)[:, 1]\n",
        "\n",
        "cm = confusion_matrix(y_test, y_pred_ada)\n",
        "tn, fp, fn, tp = cm.ravel()\n",
        "\n",
        "sensitivity = tp / (tp + fn)\n",
        "specificity = tn / (tn + fp)\n",
        "fnr = fn / (fn + tp)\n",
        "fpr = fp / (fp + tn)\n",
        "auc = roc_auc_score(y_test, y_prob_ada)\n",
        "\n",
        "print(\"🔍 AdaBoost Classifier\")\n",
        "print(\"Confusion Matrix:\\n\", cm)\n",
        "print(f\"Sensitivity: {sensitivity:.4f}\")\n",
        "print(f\"Specificity: {specificity:.4f}\")\n",
        "print(f\"FNR: {fnr:.4f}\")\n",
        "print(f\"FPR: {fpr:.4f}\")\n",
        "print(f\"AUC: {auc:.4f}\")\n"
      ],
      "metadata": {
        "colab": {
          "base_uri": "https://localhost:8080/"
        },
        "id": "323AcCGXo7Ji",
        "outputId": "ed722a93-dcc8-461d-b6f1-c43448345d0d"
      },
      "execution_count": 43,
      "outputs": [
        {
          "output_type": "stream",
          "name": "stdout",
          "text": [
            "🔍 AdaBoost Classifier\n",
            "Confusion Matrix:\n",
            " [[588   2]\n",
            " [ 22 346]]\n",
            "Sensitivity: 0.9402\n",
            "Specificity: 0.9966\n",
            "FNR: 0.0598\n",
            "FPR: 0.0034\n",
            "AUC: 0.9935\n"
          ]
        }
      ]
    },
    {
      "cell_type": "markdown",
      "source": [
        "# Top Important Features from Logistic Regression"
      ],
      "metadata": {
        "id": "QctHmglLpRCS"
      }
    },
    {
      "cell_type": "code",
      "source": [
        "# Re-train on full feature set (if not done already)\n",
        "lr = LogisticRegression(max_iter=1000)\n",
        "lr.fit(X_train, y_train)\n",
        "\n",
        "# Get feature names and coefficients\n",
        "feature_names = X.columns\n",
        "coefficients = lr.coef_[0]\n",
        "\n",
        "# Create a DataFrame of features and their importance\n",
        "importance_df = pd.DataFrame({\n",
        "    \"Feature\": feature_names,\n",
        "    \"Coefficient\": coefficients\n",
        "})\n",
        "\n",
        "# Sort by absolute importance\n",
        "top_features = importance_df.reindex(importance_df.Coefficient.abs().sort_values(ascending=False).index)\n",
        "\n",
        "# Show top 10\n",
        "top_features.head(10)\n"
      ],
      "metadata": {
        "colab": {
          "base_uri": "https://localhost:8080/",
          "height": 363
        },
        "id": "BKCDRdJJpSEl",
        "outputId": "9354dbbe-0abb-43ff-96f9-e8a8b17784f9"
      },
      "execution_count": 46,
      "outputs": [
        {
          "output_type": "execute_result",
          "data": {
            "text/plain": [
              "                Feature  Coefficient\n",
              "53      CTYPE_JUST_HTML     4.104420\n",
              "335           RESENT_TO     2.822755\n",
              "441            WEB_BUGS     2.377806\n",
              "385  SUBJ_FULL_OF_8BITS     1.947054\n",
              "21      BASE64_ENC_TEXT     1.852790\n",
              "111   FORGED_YAHOO_RCVD     1.800605\n",
              "39          CLICK_BELOW     1.783094\n",
              "250     MISSING_MIMEOLE     1.727684\n",
              "400  TO_ADDRESS_EQ_REAL     1.658303\n",
              "451       X_ACCEPT_LANG    -1.584935"
            ],
            "text/html": [
              "\n",
              "  <div id=\"df-c490c168-b7ba-4f4d-8d94-80cd52a54e66\" class=\"colab-df-container\">\n",
              "    <div>\n",
              "<style scoped>\n",
              "    .dataframe tbody tr th:only-of-type {\n",
              "        vertical-align: middle;\n",
              "    }\n",
              "\n",
              "    .dataframe tbody tr th {\n",
              "        vertical-align: top;\n",
              "    }\n",
              "\n",
              "    .dataframe thead th {\n",
              "        text-align: right;\n",
              "    }\n",
              "</style>\n",
              "<table border=\"1\" class=\"dataframe\">\n",
              "  <thead>\n",
              "    <tr style=\"text-align: right;\">\n",
              "      <th></th>\n",
              "      <th>Feature</th>\n",
              "      <th>Coefficient</th>\n",
              "    </tr>\n",
              "  </thead>\n",
              "  <tbody>\n",
              "    <tr>\n",
              "      <th>53</th>\n",
              "      <td>CTYPE_JUST_HTML</td>\n",
              "      <td>4.104420</td>\n",
              "    </tr>\n",
              "    <tr>\n",
              "      <th>335</th>\n",
              "      <td>RESENT_TO</td>\n",
              "      <td>2.822755</td>\n",
              "    </tr>\n",
              "    <tr>\n",
              "      <th>441</th>\n",
              "      <td>WEB_BUGS</td>\n",
              "      <td>2.377806</td>\n",
              "    </tr>\n",
              "    <tr>\n",
              "      <th>385</th>\n",
              "      <td>SUBJ_FULL_OF_8BITS</td>\n",
              "      <td>1.947054</td>\n",
              "    </tr>\n",
              "    <tr>\n",
              "      <th>21</th>\n",
              "      <td>BASE64_ENC_TEXT</td>\n",
              "      <td>1.852790</td>\n",
              "    </tr>\n",
              "    <tr>\n",
              "      <th>111</th>\n",
              "      <td>FORGED_YAHOO_RCVD</td>\n",
              "      <td>1.800605</td>\n",
              "    </tr>\n",
              "    <tr>\n",
              "      <th>39</th>\n",
              "      <td>CLICK_BELOW</td>\n",
              "      <td>1.783094</td>\n",
              "    </tr>\n",
              "    <tr>\n",
              "      <th>250</th>\n",
              "      <td>MISSING_MIMEOLE</td>\n",
              "      <td>1.727684</td>\n",
              "    </tr>\n",
              "    <tr>\n",
              "      <th>400</th>\n",
              "      <td>TO_ADDRESS_EQ_REAL</td>\n",
              "      <td>1.658303</td>\n",
              "    </tr>\n",
              "    <tr>\n",
              "      <th>451</th>\n",
              "      <td>X_ACCEPT_LANG</td>\n",
              "      <td>-1.584935</td>\n",
              "    </tr>\n",
              "  </tbody>\n",
              "</table>\n",
              "</div>\n",
              "    <div class=\"colab-df-buttons\">\n",
              "\n",
              "  <div class=\"colab-df-container\">\n",
              "    <button class=\"colab-df-convert\" onclick=\"convertToInteractive('df-c490c168-b7ba-4f4d-8d94-80cd52a54e66')\"\n",
              "            title=\"Convert this dataframe to an interactive table.\"\n",
              "            style=\"display:none;\">\n",
              "\n",
              "  <svg xmlns=\"http://www.w3.org/2000/svg\" height=\"24px\" viewBox=\"0 -960 960 960\">\n",
              "    <path d=\"M120-120v-720h720v720H120Zm60-500h600v-160H180v160Zm220 220h160v-160H400v160Zm0 220h160v-160H400v160ZM180-400h160v-160H180v160Zm440 0h160v-160H620v160ZM180-180h160v-160H180v160Zm440 0h160v-160H620v160Z\"/>\n",
              "  </svg>\n",
              "    </button>\n",
              "\n",
              "  <style>\n",
              "    .colab-df-container {\n",
              "      display:flex;\n",
              "      gap: 12px;\n",
              "    }\n",
              "\n",
              "    .colab-df-convert {\n",
              "      background-color: #E8F0FE;\n",
              "      border: none;\n",
              "      border-radius: 50%;\n",
              "      cursor: pointer;\n",
              "      display: none;\n",
              "      fill: #1967D2;\n",
              "      height: 32px;\n",
              "      padding: 0 0 0 0;\n",
              "      width: 32px;\n",
              "    }\n",
              "\n",
              "    .colab-df-convert:hover {\n",
              "      background-color: #E2EBFA;\n",
              "      box-shadow: 0px 1px 2px rgba(60, 64, 67, 0.3), 0px 1px 3px 1px rgba(60, 64, 67, 0.15);\n",
              "      fill: #174EA6;\n",
              "    }\n",
              "\n",
              "    .colab-df-buttons div {\n",
              "      margin-bottom: 4px;\n",
              "    }\n",
              "\n",
              "    [theme=dark] .colab-df-convert {\n",
              "      background-color: #3B4455;\n",
              "      fill: #D2E3FC;\n",
              "    }\n",
              "\n",
              "    [theme=dark] .colab-df-convert:hover {\n",
              "      background-color: #434B5C;\n",
              "      box-shadow: 0px 1px 3px 1px rgba(0, 0, 0, 0.15);\n",
              "      filter: drop-shadow(0px 1px 2px rgba(0, 0, 0, 0.3));\n",
              "      fill: #FFFFFF;\n",
              "    }\n",
              "  </style>\n",
              "\n",
              "    <script>\n",
              "      const buttonEl =\n",
              "        document.querySelector('#df-c490c168-b7ba-4f4d-8d94-80cd52a54e66 button.colab-df-convert');\n",
              "      buttonEl.style.display =\n",
              "        google.colab.kernel.accessAllowed ? 'block' : 'none';\n",
              "\n",
              "      async function convertToInteractive(key) {\n",
              "        const element = document.querySelector('#df-c490c168-b7ba-4f4d-8d94-80cd52a54e66');\n",
              "        const dataTable =\n",
              "          await google.colab.kernel.invokeFunction('convertToInteractive',\n",
              "                                                    [key], {});\n",
              "        if (!dataTable) return;\n",
              "\n",
              "        const docLinkHtml = 'Like what you see? Visit the ' +\n",
              "          '<a target=\"_blank\" href=https://colab.research.google.com/notebooks/data_table.ipynb>data table notebook</a>'\n",
              "          + ' to learn more about interactive tables.';\n",
              "        element.innerHTML = '';\n",
              "        dataTable['output_type'] = 'display_data';\n",
              "        await google.colab.output.renderOutput(dataTable, element);\n",
              "        const docLink = document.createElement('div');\n",
              "        docLink.innerHTML = docLinkHtml;\n",
              "        element.appendChild(docLink);\n",
              "      }\n",
              "    </script>\n",
              "  </div>\n",
              "\n",
              "\n",
              "    <div id=\"df-990c2bc6-5c92-43cf-bc9b-ea58b5455a6a\">\n",
              "      <button class=\"colab-df-quickchart\" onclick=\"quickchart('df-990c2bc6-5c92-43cf-bc9b-ea58b5455a6a')\"\n",
              "                title=\"Suggest charts\"\n",
              "                style=\"display:none;\">\n",
              "\n",
              "<svg xmlns=\"http://www.w3.org/2000/svg\" height=\"24px\"viewBox=\"0 0 24 24\"\n",
              "     width=\"24px\">\n",
              "    <g>\n",
              "        <path d=\"M19 3H5c-1.1 0-2 .9-2 2v14c0 1.1.9 2 2 2h14c1.1 0 2-.9 2-2V5c0-1.1-.9-2-2-2zM9 17H7v-7h2v7zm4 0h-2V7h2v10zm4 0h-2v-4h2v4z\"/>\n",
              "    </g>\n",
              "</svg>\n",
              "      </button>\n",
              "\n",
              "<style>\n",
              "  .colab-df-quickchart {\n",
              "      --bg-color: #E8F0FE;\n",
              "      --fill-color: #1967D2;\n",
              "      --hover-bg-color: #E2EBFA;\n",
              "      --hover-fill-color: #174EA6;\n",
              "      --disabled-fill-color: #AAA;\n",
              "      --disabled-bg-color: #DDD;\n",
              "  }\n",
              "\n",
              "  [theme=dark] .colab-df-quickchart {\n",
              "      --bg-color: #3B4455;\n",
              "      --fill-color: #D2E3FC;\n",
              "      --hover-bg-color: #434B5C;\n",
              "      --hover-fill-color: #FFFFFF;\n",
              "      --disabled-bg-color: #3B4455;\n",
              "      --disabled-fill-color: #666;\n",
              "  }\n",
              "\n",
              "  .colab-df-quickchart {\n",
              "    background-color: var(--bg-color);\n",
              "    border: none;\n",
              "    border-radius: 50%;\n",
              "    cursor: pointer;\n",
              "    display: none;\n",
              "    fill: var(--fill-color);\n",
              "    height: 32px;\n",
              "    padding: 0;\n",
              "    width: 32px;\n",
              "  }\n",
              "\n",
              "  .colab-df-quickchart:hover {\n",
              "    background-color: var(--hover-bg-color);\n",
              "    box-shadow: 0 1px 2px rgba(60, 64, 67, 0.3), 0 1px 3px 1px rgba(60, 64, 67, 0.15);\n",
              "    fill: var(--button-hover-fill-color);\n",
              "  }\n",
              "\n",
              "  .colab-df-quickchart-complete:disabled,\n",
              "  .colab-df-quickchart-complete:disabled:hover {\n",
              "    background-color: var(--disabled-bg-color);\n",
              "    fill: var(--disabled-fill-color);\n",
              "    box-shadow: none;\n",
              "  }\n",
              "\n",
              "  .colab-df-spinner {\n",
              "    border: 2px solid var(--fill-color);\n",
              "    border-color: transparent;\n",
              "    border-bottom-color: var(--fill-color);\n",
              "    animation:\n",
              "      spin 1s steps(1) infinite;\n",
              "  }\n",
              "\n",
              "  @keyframes spin {\n",
              "    0% {\n",
              "      border-color: transparent;\n",
              "      border-bottom-color: var(--fill-color);\n",
              "      border-left-color: var(--fill-color);\n",
              "    }\n",
              "    20% {\n",
              "      border-color: transparent;\n",
              "      border-left-color: var(--fill-color);\n",
              "      border-top-color: var(--fill-color);\n",
              "    }\n",
              "    30% {\n",
              "      border-color: transparent;\n",
              "      border-left-color: var(--fill-color);\n",
              "      border-top-color: var(--fill-color);\n",
              "      border-right-color: var(--fill-color);\n",
              "    }\n",
              "    40% {\n",
              "      border-color: transparent;\n",
              "      border-right-color: var(--fill-color);\n",
              "      border-top-color: var(--fill-color);\n",
              "    }\n",
              "    60% {\n",
              "      border-color: transparent;\n",
              "      border-right-color: var(--fill-color);\n",
              "    }\n",
              "    80% {\n",
              "      border-color: transparent;\n",
              "      border-right-color: var(--fill-color);\n",
              "      border-bottom-color: var(--fill-color);\n",
              "    }\n",
              "    90% {\n",
              "      border-color: transparent;\n",
              "      border-bottom-color: var(--fill-color);\n",
              "    }\n",
              "  }\n",
              "</style>\n",
              "\n",
              "      <script>\n",
              "        async function quickchart(key) {\n",
              "          const quickchartButtonEl =\n",
              "            document.querySelector('#' + key + ' button');\n",
              "          quickchartButtonEl.disabled = true;  // To prevent multiple clicks.\n",
              "          quickchartButtonEl.classList.add('colab-df-spinner');\n",
              "          try {\n",
              "            const charts = await google.colab.kernel.invokeFunction(\n",
              "                'suggestCharts', [key], {});\n",
              "          } catch (error) {\n",
              "            console.error('Error during call to suggestCharts:', error);\n",
              "          }\n",
              "          quickchartButtonEl.classList.remove('colab-df-spinner');\n",
              "          quickchartButtonEl.classList.add('colab-df-quickchart-complete');\n",
              "        }\n",
              "        (() => {\n",
              "          let quickchartButtonEl =\n",
              "            document.querySelector('#df-990c2bc6-5c92-43cf-bc9b-ea58b5455a6a button');\n",
              "          quickchartButtonEl.style.display =\n",
              "            google.colab.kernel.accessAllowed ? 'block' : 'none';\n",
              "        })();\n",
              "      </script>\n",
              "    </div>\n",
              "\n",
              "    </div>\n",
              "  </div>\n"
            ],
            "application/vnd.google.colaboratory.intrinsic+json": {
              "type": "dataframe",
              "variable_name": "top_features",
              "summary": "{\n  \"name\": \"top_features\",\n  \"rows\": 462,\n  \"fields\": [\n    {\n      \"column\": \"Feature\",\n      \"properties\": {\n        \"dtype\": \"string\",\n        \"num_unique_values\": 462,\n        \"samples\": [\n          \"PORN_PASSWORD\",\n          \"EXCUSE_14\",\n          \"FROM_HAS_MIXED_NUMS\"\n        ],\n        \"semantic_type\": \"\",\n        \"description\": \"\"\n      }\n    },\n    {\n      \"column\": \"Coefficient\",\n      \"properties\": {\n        \"dtype\": \"number\",\n        \"std\": 0.535241321977595,\n        \"min\": -1.5849347122821078,\n        \"max\": 4.104419606894918,\n        \"num_unique_values\": 444,\n        \"samples\": [\n          0.02036630590759823,\n          0.34854645148599306,\n          -0.6119260042264018\n        ],\n        \"semantic_type\": \"\",\n        \"description\": \"\"\n      }\n    }\n  ]\n}"
            }
          },
          "metadata": {},
          "execution_count": 46
        }
      ]
    },
    {
      "cell_type": "markdown",
      "source": [
        "# Visualize Top 10 *Features*"
      ],
      "metadata": {
        "id": "YnSG2WwfpVaK"
      }
    },
    {
      "cell_type": "code",
      "source": [
        "import seaborn as sns\n",
        "import matplotlib.pyplot as plt\n",
        "\n",
        "plt.figure(figsize=(10,6))\n",
        "sns.barplot(\n",
        "    data=top_features.head(10),\n",
        "    x=\"Coefficient\",\n",
        "    y=\"Feature\",\n",
        "    palette=\"coolwarm\"\n",
        ")\n",
        "plt.title(\"🔍 Top 10 Most Important Features (Logistic Regression)\")\n",
        "plt.tight_layout()\n",
        "plt.show()\n"
      ],
      "metadata": {
        "colab": {
          "base_uri": "https://localhost:8080/",
          "height": 607
        },
        "id": "hBmpcY4LpYXK",
        "outputId": "9575665f-44dc-4ef1-a165-a5e6e984da14"
      },
      "execution_count": 45,
      "outputs": [
        {
          "output_type": "display_data",
          "data": {
            "text/plain": [
              "<Figure size 1000x600 with 1 Axes>"
            ],
            "image/png": "[encoded data removed]"
          },
          "metadata": {}
        }
      ]
    },
    {
      "cell_type": "code",
      "source": [
        "import matplotlib.pyplot as plt\n",
        "import numpy as np\n",
        "import pandas as pd\n",
        "\n",
        "# Recreate the summary data (you can skip this part if you already have `summary_df`)\n",
        "summary_data = {\n",
        "    \"Model\": [\n",
        "        \"Logistic Regression (original)\",\n",
        "        \"Logistic Regression + RFE (100 features)\",\n",
        "        \"Logistic Regression + PCA (95%)\",\n",
        "        \"Logistic Regression + SMOTE\",\n",
        "        \"Logistic Regression (class_weight=1:5)\",\n",
        "        \"Logistic Regression (class_weight=1:10)\",\n",
        "        \"Decision Tree\",\n",
        "        \"Random Forest\",\n",
        "        \"SVM\",\n",
        "        \"k-NN\",\n",
        "        \"Naive Bayes\",\n",
        "        \"MLP\",\n",
        "        \"AdaBoost\"\n",
        "    ],\n",
        "    \"FNR\": [0.0462, 0.0516, 0.0462, 0.0272, 0.0299, 0.0163, 0.0326, 0.0299, 0.0489, 0.1712, 0.0652, 0.0326, 0.0598],\n",
        "    \"FPR\": [0.0000, 0.0000, 0.0017, 0.0017, 0.0119, 0.0254, 0.0136, 0.0051, 0.0017, 0.0017, 0.0119, 0.0051, 0.0034],\n",
        "    \"AUC\": [0.9990, 0.9987, 0.9987, 0.9988, 0.9985, 0.9982, 0.9818, 0.9970, 0.9984, 0.9696, 0.9667, 0.9964, 0.9935]\n",
        "}\n",
        "summary_df = pd.DataFrame(summary_data)\n",
        "\n",
        "# Plot configuration\n",
        "plt.figure(figsize=(14, 6))\n",
        "bar_width = 0.25\n",
        "index = np.arange(len(summary_df))\n",
        "\n",
        "# Bar plots\n",
        "plt.bar(index, summary_df['FNR'], bar_width, label='FNR', color='skyblue')\n",
        "plt.bar(index + bar_width, summary_df['FPR'], bar_width, label='FPR', color='orange')\n",
        "plt.bar(index + 2 * bar_width, summary_df['AUC'], bar_width, label='AUC', color='limegreen')\n",
        "\n",
        "# Labels and formatting\n",
        "plt.xlabel('Model', fontsize=12)\n",
        "plt.ylabel('Metric Value', fontsize=12)\n",
        "plt.title('Comparison of FNR, FPR, and AUC Across Models', fontsize=14)\n",
        "plt.xticks(index + bar_width, summary_df['Model'], rotation=90)\n",
        "plt.axhline(0.005, color='red', linestyle='--', linewidth=1, label='FPR Threshold (0.5%)')\n",
        "plt.legend()\n",
        "plt.tight_layout()\n",
        "plt.show()\n"
      ],
      "metadata": {
        "colab": {
          "base_uri": "https://localhost:8080/",
          "height": 607
        },
        "id": "tCqPxWHzy569",
        "outputId": "d24ce88f-8ae7-4d74-a035-e66ecfc7fb56"
      },
      "execution_count": 47,
      "outputs": [
        {
          "output_type": "display_data",
          "data": {
            "text/plain": [
              "<Figure size 1400x600 with 1 Axes>"
            ],
            "image/png": "[encoded data removed]"
          },
          "metadata": {}
        }
      ]
    }
  ]
}